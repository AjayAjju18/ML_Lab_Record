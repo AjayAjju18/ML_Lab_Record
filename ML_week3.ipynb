{
 "cells": [
  {
   "cell_type": "code",
   "execution_count": 3,
   "id": "5f569080",
   "metadata": {},
   "outputs": [
    {
     "name": "stdout",
     "output_type": "stream",
     "text": [
      "      TV  Sales\n",
      "0  230.1   22.1\n",
      "1   44.5   10.4\n",
      "2   17.2    9.3\n",
      "3  151.5   18.5\n",
      "4  180.8   12.9\n"
     ]
    }
   ],
   "source": [
    "import pandas as pd\n",
    "df = pd.read_csv(\"tvmarketing.csv\")\n",
    "print(df.head())"
   ]
  },
  {
   "cell_type": "code",
   "execution_count": 6,
   "id": "125b644a",
   "metadata": {},
   "outputs": [
    {
     "name": "stdout",
     "output_type": "stream",
     "text": [
      "200\n"
     ]
    }
   ],
   "source": [
    "import pandas as pd\n",
    "df = pd.read_csv(\"tvmarketing.csv\")\n",
    "print(df.shape[0])"
   ]
  },
  {
   "cell_type": "code",
   "execution_count": 7,
   "id": "0c600c37",
   "metadata": {},
   "outputs": [
    {
     "name": "stdout",
     "output_type": "stream",
     "text": [
      "TV       float64\n",
      "Sales    float64\n",
      "dtype: object\n"
     ]
    }
   ],
   "source": [
    "#check column data types\n",
    "\n",
    "print(df.dtypes)"
   ]
  },
  {
   "cell_type": "code",
   "execution_count": 8,
   "id": "1bf410e8",
   "metadata": {},
   "outputs": [
    {
     "name": "stdout",
     "output_type": "stream",
     "text": [
      "(200, 2)\n"
     ]
    }
   ],
   "source": [
    "# shape of the Data Frame (rows, columns)\n",
    "\n",
    "print(df.shape)"
   ]
  },
  {
   "cell_type": "code",
   "execution_count": 9,
   "id": "78deed89",
   "metadata": {},
   "outputs": [
    {
     "name": "stdout",
     "output_type": "stream",
     "text": [
      "<class 'pandas.core.frame.DataFrame'>\n",
      "RangeIndex: 200 entries, 0 to 199\n",
      "Data columns (total 2 columns):\n",
      " #   Column  Non-Null Count  Dtype  \n",
      "---  ------  --------------  -----  \n",
      " 0   TV      200 non-null    float64\n",
      " 1   Sales   200 non-null    float64\n",
      "dtypes: float64(2)\n",
      "memory usage: 3.2 KB\n",
      "None\n"
     ]
    }
   ],
   "source": [
    "print(df.info())"
   ]
  },
  {
   "cell_type": "code",
   "execution_count": 14,
   "id": "eab84a89",
   "metadata": {},
   "outputs": [
    {
     "name": "stdout",
     "output_type": "stream",
     "text": [
      "Rows :200,Cols :2\n"
     ]
    }
   ],
   "source": [
    "# shape of the Data Frame (rows, columns)\n",
    "\n",
    "rows,cols = df.shape;\n",
    "print(f\"Rows :{rows},Cols :{cols}\")"
   ]
  },
  {
   "cell_type": "code",
   "execution_count": 15,
   "id": "8a31424a",
   "metadata": {},
   "outputs": [
    {
     "name": "stdout",
     "output_type": "stream",
     "text": [
      "               TV       Sales\n",
      "count  200.000000  200.000000\n",
      "mean   147.042500   14.022500\n",
      "std     85.854236    5.217457\n",
      "min      0.700000    1.600000\n",
      "25%     74.375000   10.375000\n",
      "50%    149.750000   12.900000\n",
      "75%    218.825000   17.400000\n",
      "max    296.400000   27.000000\n"
     ]
    }
   ],
   "source": [
    "#summary statistics\n",
    "\n",
    "print(df.describe())"
   ]
  },
  {
   "cell_type": "code",
   "execution_count": 5,
   "id": "ac25841d",
   "metadata": {},
   "outputs": [
    {
     "data": {
      "image/png": "[encoded data removed]",
      "text/plain": [
       "<Figure size 864x432 with 1 Axes>"
      ]
     },
     "metadata": {
      "needs_background": "light"
     },
     "output_type": "display_data"
    }
   ],
   "source": [
    "import pandas as pd\n",
    "import matplotlib.pyplot as plt\n",
    "import seaborn as sns\n",
    "\n",
    "# Load the dataset\n",
    "file_path = \"tvmarketing.csv\"  \n",
    "df = pd.read_csv(file_path)\n",
    "\n",
    "# Scatter plot of TV vs Sales\n",
    "plt.figure(figsize=(12, 6))\n",
    "sns.scatterplot(x=df['TV'], y=df['Sales'], color='blue')\n",
    "\n",
    "# Titles and labels\n",
    "plt.title('TV Advertising Spend vs Sales')\n",
    "plt.xlabel('TV Advertising Spend ($1000s)')\n",
    "plt.ylabel('Sales (units sold)')\n",
    "\n",
    "# Show plot\n",
    "plt.show()\n"
   ]
  },
  {
   "cell_type": "code",
   "execution_count": 7,
   "id": "f1d590d7",
   "metadata": {},
   "outputs": [
    {
     "name": "stdout",
     "output_type": "stream",
     "text": [
      "0    230.1\n",
      "1     44.5\n",
      "2     17.2\n",
      "3    151.5\n",
      "4    180.8\n",
      "Name: TV, dtype: float64\n",
      "0    22.1\n",
      "1    10.4\n",
      "2     9.3\n",
      "3    18.5\n",
      "4    12.9\n",
      "Name: Sales, dtype: float64\n"
     ]
    }
   ],
   "source": [
    "#. Prepare X (feature variables) and y (response variable)\n",
    "\n",
    "import pandas as pd\n",
    "df = pd.read_csv(\"tvmarketing.csv\")\n",
    "x = df['TV']\n",
    "y= df['Sales']\n",
    "\n",
    "print(x.head())\n",
    "print(y.head())\n",
    " "
   ]
  },
  {
   "cell_type": "code",
   "execution_count": 40,
   "id": "0f73846e",
   "metadata": {
    "scrolled": false
   },
   "outputs": [
    {
     "name": "stdout",
     "output_type": "stream",
     "text": [
      "Training set: X_train=(140, 1), y_train=(140,)\n",
      "Testing set: X_test=(60, 1), y_test=(60,)\n"
     ]
    }
   ],
   "source": [
    "#Split Data into Training and Testing Sets (70%-Train 30%-Test) - X_train, y_train, X_test, y_test\n",
    "\n",
    "import pandas as pd\n",
    "from sklearn.model_selection import train_test_split\n",
    "\n",
    "# Load the dataset\n",
    "df = pd.read_csv(\"tvmarketing.csv\")\n",
    "\n",
    "# Define X (features) and y (response variable)\n",
    "X = df[['TV']]  # Independent variable\n",
    "y = df['Sales']  # Dependent variable\n",
    "\n",
    "# Split data: 70% training, 30% testing\n",
    "X_train, X_test, y_train, y_test = train_test_split(X, y, test_size=0.30, random_state=42)\n",
    "\n",
    "# Display the shapes of the datasets\n",
    "print(f\"Training set: X_train={X_train.shape}, y_train={y_train.shape}\")\n",
    "print(f\"Testing set: X_test={X_test.shape}, y_test={y_test.shape}\")\n"
   ]
  },
  {
   "cell_type": "code",
   "execution_count": 24,
   "id": "ff4f20e8",
   "metadata": {},
   "outputs": [
    {
     "name": "stdout",
     "output_type": "stream",
     "text": [
      "Training set: X_train = (140, 1) , y_train = (140,)\n",
      "Testing set: X_test = (60, 1) , y_test = (60,)\n"
     ]
    }
   ],
   "source": [
    "#Print the shape of train data and test data\n",
    "\n",
    "from sklearn.model_selection import train_test_split\n",
    "import numpy as np\n",
    "\n",
    "# Creating a dummy dataset\n",
    "X = np.arange(200).reshape(-1, 1)  # 200 samples, 1 feature\n",
    "y = np.arange(200)  # Target variable\n",
    "\n",
    "# Splitting into 70% train and 30% test\n",
    "X_train, X_test, y_train, y_test = train_test_split(X, y, test_size=0.3, random_state=42)\n",
    "\n",
    "# Printing the shape of train and test data\n",
    "print(\"Training set: X_train =\", X_train.shape, \", y_train =\", y_train.shape)\n",
    "print(\"Testing set: X_test =\", X_test.shape, \", y_test =\", y_test.shape)\n"
   ]
  },
  {
   "cell_type": "code",
   "execution_count": 38,
   "id": "855eb0af",
   "metadata": {},
   "outputs": [
    {
     "name": "stdout",
     "output_type": "stream",
     "text": [
      "Intercept (b0): 7.24\n",
      "Slope (b1): 0.05\n"
     ]
    }
   ],
   "source": [
    "#Perform Linear Regression (on train data) without using any library and print the coefficients values\n",
    "\n",
    "import numpy as np\n",
    "import pandas as pd\n",
    "from sklearn.model_selection import train_test_split\n",
    "\n",
    "# Load the dataset\n",
    "df = pd.read_csv(\"tvmarketing.csv\")  # Ensure correct file path\n",
    "\n",
    "# Define feature (X) and target variable (y)\n",
    "X = df[['TV']]  # Independent variable (TV marketing budget)\n",
    "y = df['Sales']  # Dependent variable (Sales)\n",
    "\n",
    "# Split data (70% training, 30% testing)\n",
    "X_train, X_test, y_train, y_test = train_test_split(X, y, test_size=0.30, random_state=42)\n",
    "\n",
    "# Convert training data to NumPy arrays\n",
    "X_train = X_train.values.flatten()  # Convert DataFrame to 1D NumPy array\n",
    "y_train = y_train.values.flatten()\n",
    "\n",
    "# Compute means of X and y\n",
    "X_mean = np.mean(X_train_np)\n",
    "y_mean = np.mean(y_train_np)\n",
    "\n",
    "# Compute slope (b1)\n",
    "numerator = np.sum((X_train_np - X_mean) * (y_train_np - y_mean))\n",
    "denominator = np.sum((X_train_np - X_mean) ** 2)\n",
    "b1 = numerator / denominator  # Slope\n",
    "\n",
    "# Compute intercept (b0)\n",
    "b0 = y_mean - (b1 * X_mean)\n",
    "\n",
    "# Print the correct coefficient values\n",
    "print(f\"Intercept (b0): {b0:.2f}\")\n",
    "print(f\"Slope (b1): {b1:.2f}\")\n"
   ]
  },
  {
   "cell_type": "code",
   "execution_count": 28,
   "id": "62beb231",
   "metadata": {},
   "outputs": [
    {
     "name": "stdout",
     "output_type": "stream",
     "text": [
      "Actual Sales vs Predicted Sales (First 10 values):\n",
      "Actual: 16.90, Predicted: 14.82\n",
      "Actual: 22.40, Predicted: 16.31\n",
      "Actual: 21.40, Predicted: 20.83\n",
      "Actual: 7.30, Predicted: 7.78\n",
      "Actual: 24.70, Predicted: 17.46\n",
      "Actual: 12.60, Predicted: 10.72\n",
      "Actual: 22.30, Predicted: 17.30\n",
      "Actual: 8.40, Predicted: 9.56\n",
      "Actual: 11.50, Predicted: 17.56\n",
      "Actual: 14.90, Predicted: 15.37\n"
     ]
    }
   ],
   "source": [
    "#Create the model using the calculated coefficients and make predictions on the testing set\n",
    "\n",
    "y_pred = b0 + b1 * X_test.values.flatten()  # Apply regression formula\n",
    "\n",
    "# Print the first few actual vs predicted values\n",
    "print(\"Actual Sales vs Predicted Sales (First 10 values):\")\n",
    "for actual, predicted in zip(y_test[:10], y_pred[:10]):\n",
    "    print(f\"Actual: {actual:.2f}, Predicted: {predicted:.2f}\")\n"
   ]
  },
  {
   "cell_type": "code",
   "execution_count": 31,
   "id": "82eb5167",
   "metadata": {},
   "outputs": [
    {
     "name": "stdout",
     "output_type": "stream",
     "text": [
      "Intercept (b0) using sklearn: 7.24\n",
      "Slope (b1) using sklearn: 0.05\n"
     ]
    }
   ],
   "source": [
    "#Perform Linear Regression using library(sklearn)\n",
    "\n",
    "from sklearn.linear_model import LinearRegression\n",
    "\n",
    "# Initialize the Linear Regression model\n",
    "model = LinearRegression()\n",
    "\n",
    "# Train (fit) the model on training data\n",
    "model.fit(X_train, y_train)\n",
    "\n",
    "# Get the intercept (b0) and slope (b1)\n",
    "b0 = model.intercept_\n",
    "b1 = model.coef_[0]\n",
    "\n",
    "#Print the intercept and coefficients\n",
    "\n",
    "print(f\"Intercept (b0) using sklearn: {b0:.2f}\")\n",
    "print(f\"Slope (b1) using sklearn: {b1:.2f}\")\n",
    "\n"
   ]
  },
  {
   "cell_type": "code",
   "execution_count": 32,
   "id": "9a9be428",
   "metadata": {},
   "outputs": [
    {
     "name": "stdout",
     "output_type": "stream",
     "text": [
      "Actual Sales vs Predicted Sales (First 10 values):\n",
      "Actual: 16.90, Predicted: 14.82\n",
      "Actual: 22.40, Predicted: 16.31\n",
      "Actual: 21.40, Predicted: 20.83\n",
      "Actual: 7.30, Predicted: 7.78\n",
      "Actual: 24.70, Predicted: 17.46\n",
      "Actual: 12.60, Predicted: 10.72\n",
      "Actual: 22.30, Predicted: 17.30\n",
      "Actual: 8.40, Predicted: 9.56\n",
      "Actual: 11.50, Predicted: 17.56\n",
      "Actual: 14.90, Predicted: 15.37\n"
     ]
    }
   ],
   "source": [
    "# Make predictions using the trained model\n",
    "y_pred = model.predict(X_test)\n",
    "\n",
    "# Print the first 10 actual vs predicted values\n",
    "print(\"Actual Sales vs Predicted Sales (First 10 values):\")\n",
    "for actual, predicted in zip(y_test[:10], y_pred[:10]):\n",
    "    print(f\"Actual: {actual:.2f}, Predicted: {predicted:.2f}\")\n"
   ]
  },
  {
   "cell_type": "code",
   "execution_count": 33,
   "id": "6296f305",
   "metadata": {},
   "outputs": [
    {
     "data": {
      "image/png": "[encoded data removed]",
      "text/plain": [
       "<Figure size 576x360 with 1 Axes>"
      ]
     },
     "metadata": {
      "needs_background": "light"
     },
     "output_type": "display_data"
    }
   ],
   "source": [
    "#.Plot train data and the mode\n",
    "\n",
    "import matplotlib.pyplot as plt\n",
    "\n",
    "# Scatter plot of training data\n",
    "plt.figure(figsize=(8, 5))\n",
    "plt.scatter(X_train, y_train, color='blue', label=\"Training Data\")  # Training data points\n",
    "\n",
    "# Plot regression line\n",
    "plt.plot(X_train, model.predict(X_train), color='red', linewidth=2, label=\"Regression Line\")\n",
    "\n",
    "# Labels and title\n",
    "plt.xlabel(\"TV Advertising Budget ($1000s)\")\n",
    "plt.ylabel(\"Sales (units sold)\")\n",
    "plt.title(\"Linear Regression - Training Data\")\n",
    "plt.legend()\n",
    "plt.show()\n"
   ]
  },
  {
   "cell_type": "code",
   "execution_count": 34,
   "id": "960f3d21",
   "metadata": {},
   "outputs": [
    {
     "data": {
      "image/png": "[encoded data removed]",
      "text/plain": [
       "<Figure size 576x360 with 1 Axes>"
      ]
     },
     "metadata": {
      "needs_background": "light"
     },
     "output_type": "display_data"
    }
   ],
   "source": [
    "#.Plot test data and the mode\n",
    "\n",
    "import matplotlib.pyplot as plt\n",
    "\n",
    "# Scatter plot of training data\n",
    "plt.figure(figsize=(8, 5))\n",
    "plt.scatter(X_test, y_test, color='blue', label=\"Testing Data\")  # Training data points\n",
    "\n",
    "# Plot regression line\n",
    "plt.plot(X_test, model.predict(X_test), color='red', linewidth=2, label=\"Regression Line\")\n",
    "\n",
    "# Labels and title\n",
    "plt.xlabel(\"TV Advertising Budget ($1000s)\")\n",
    "plt.ylabel(\"Sales (units sold)\")\n",
    "plt.title(\"Linear Regression - Testing Data\")\n",
    "plt.legend()\n",
    "plt.show()"
   ]
  },
  {
   "cell_type": "code",
   "execution_count": 37,
   "id": "66a916c1",
   "metadata": {},
   "outputs": [
    {
     "name": "stdout",
     "output_type": "stream",
     "text": [
      "Mean Squared Error (MSE): 8.97\n",
      "R Squared Value (R² Score): 0.67\n"
     ]
    }
   ],
   "source": [
    "from sklearn.metrics import mean_squared_error, r2_score\n",
    "\n",
    "# Calculate Mean Squared Error (MSE)\n",
    "mse = mean_squared_error(y_test, y_pred)\n",
    "\n",
    "# Calculate R Squared Score (R²)\n",
    "r2 = r2_score(y_test, y_pred)\n",
    "\n",
    "# Print the results\n",
    "print(f\"Mean Squared Error (MSE): {mse:.2f}\")\n",
    "print(f\"R Squared Value (R² Score): {r2:.2f}\")\n"
   ]
  },
  {
   "cell_type": "code",
   "execution_count": null,
   "id": "182e3190",
   "metadata": {},
   "outputs": [],
   "source": []
  }
 ],
 "metadata": {
  "kernelspec": {
   "display_name": "Python 3 (ipykernel)",
   "language": "python",
   "name": "python3"
  },
  "language_info": {
   "codemirror_mode": {
    "name": "ipython",
    "version": 3
   },
   "file_extension": ".py",
   "mimetype": "text/x-python",
   "name": "python",
   "nbconvert_exporter": "python",
   "pygments_lexer": "ipython3",
   "version": "3.10.12"
  }
 },
 "nbformat": 4,
 "nbformat_minor": 5
}
